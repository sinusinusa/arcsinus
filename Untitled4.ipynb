{
  "nbformat": 4,
  "nbformat_minor": 0,
  "metadata": {
    "colab": {
      "name": "Untitled4.ipynb",
      "provenance": [],
      "collapsed_sections": [],
      "authorship_tag": "ABX9TyOReQ9qMKzlBGvRCtfM5kpC",
      "include_colab_link": true
    },
    "kernelspec": {
      "name": "python3",
      "display_name": "Python 3"
    },
    "language_info": {
      "name": "python"
    }
  },
  "cells": [
    {
      "cell_type": "markdown",
      "metadata": {
        "id": "view-in-github",
        "colab_type": "text"
      },
      "source": [
        "<a href=\"https://colab.research.google.com/github/sinusinusa/arcsinus/blob/master/Untitled4.ipynb\" target=\"_parent\"><img src=\"https://colab.research.google.com/assets/colab-badge.svg\" alt=\"Open In Colab\"/></a>"
      ]
    },
    {
      "cell_type": "code",
      "metadata": {
        "colab": {
          "base_uri": "https://localhost:8080/"
        },
        "id": "zfJZvE-K17em",
        "outputId": "05d386c7-a629-42a6-b76b-613d87e4b7b0"
      },
      "source": [
        "import numpy as np\n",
        "from numpy import linalg as LA\n",
        "def inv_solve(A, b):\n",
        "  a_inv = LA.inv(A)\n",
        "  return np.dot(a_inv, b)\n",
        "A = [\n",
        " [1.0, -2.0, 3.0, -4.0],\n",
        " [3.0, 3.0, -5.0, -1.0],\n",
        " [3.0, 0.0, 3.0, -10.0],\n",
        " [-2.0, 1.0, 2.0, -3.0]]\n",
        "b = [2, -3, 8, 5]\n",
        "X = inv_solve(A, b)\n",
        "X_test = np.dot(A, X)\n",
        "#тестируем\n",
        "print(X)\n",
        "print(X_test)\n",
        "print(b)\n"
      ],
      "execution_count": 1,
      "outputs": [
        {
          "output_type": "stream",
          "text": [
            "[2. 4. 4. 1.]\n",
            "[ 2. -3.  8.  5.]\n",
            "[2, -3, 8, 5]\n"
          ],
          "name": "stdout"
        }
      ]
    },
    {
      "cell_type": "code",
      "metadata": {
        "colab": {
          "base_uri": "https://localhost:8080/"
        },
        "id": "Q-sQSDTp5XUW",
        "outputId": "6732c5a3-ed96-4804-cfd4-fb2d8653e6c3"
      },
      "source": [
        "import numpy as np\n",
        "from numpy import linalg as LA\n",
        "\n",
        "# --- исходные данные\n",
        "A = [\n",
        " [1.0, -2.0, 3.0, -4.0, 2.0],\n",
        " [3.0, 3.0, -5.0, -1.0, -3.0],\n",
        " [3.0, 0.0, 3.0, -10.0, 8.0],\n",
        " [-2.0, 1.0, 2.0, -3.0, 5.0]\n",
        "]\n",
        "A_1 = [\n",
        " [1.0, -2.0, 3.0, -4.0],\n",
        " [3.0, 3.0, -5.0, -1.0],\n",
        " [3.0, 0.0, 3.0, -10.0],\n",
        " [-2.0, 1.0, 2.0, -3.0]\n",
        "]\n",
        "B_1 = [2, -3, 8, 5]\n",
        "def gauss_solve(A):\n",
        "    m = len(A)\n",
        "    n = m + 1\n",
        "    for k in range(m):\n",
        "        pivots = [abs(A[i][k]) for i in range(k, m)]\n",
        "        i_max = pivots.index(max(pivots)) + k    \n",
        "        # Swap rows\n",
        "        A[k], A[i_max] = A[i_max], A[k]     \n",
        "        for i in range(k + 1, m):\n",
        "            f = A[i][k] / A[k][k]\n",
        "            for j in range(k + 1, n):\n",
        "                A[i][j] -= A[k][j] * f\n",
        "            # Fill lower triangular matrix with zeros:\n",
        "            A[i][k] = 0\n",
        "    \n",
        "    # Solve equation Ax=b for an upper triangular matrix A         \n",
        "    x = []\n",
        "    for i in range(m - 1, -1, -1):\n",
        "        x.insert(0, A[i][m] / A[i][i])\n",
        "        for k in range(i - 1, -1, -1):\n",
        "            A[k][m] -= A[k][i] * x[0]\n",
        "    return x\n",
        "X = gauss_solve(A)\n",
        "print(X)\n",
        "X_test = np.dot(A_1, X)\n",
        "#тестируем\n",
        "print(X_test)\n",
        "print(B_1)"
      ],
      "execution_count": null,
      "outputs": [
        {
          "output_type": "stream",
          "text": [
            "[2.0, 3.9999999999999964, 3.999999999999998, 0.9999999999999991]\n",
            "[ 2. -3.  8.  5.]\n",
            "[2, -3, 8, 5]\n"
          ],
          "name": "stdout"
        }
      ]
    },
    {
      "cell_type": "code",
      "metadata": {
        "colab": {
          "base_uri": "https://localhost:8080/"
        },
        "id": "xiWaSs-Z_Lxj",
        "outputId": "b76977b7-d078-41e7-8870-0ae1d26ff553"
      },
      "source": [
        "def gz_solve(a, b, x, g=10e-9):   # a is a column of coefficient matrix b augmentation x initial value of iteration g calculation accuracy\n",
        "    x = x.astype(float)    #Set the precision of x, so that multiple decimals can be displayed in the calculation of x\n",
        "    m, n = a.shape\n",
        "    times = 0                    #Iterations\n",
        "    if (m < n):\n",
        "        print(\"There is a solution space.\")    # Ensure that the number of equations is greater than the number of unknowns\n",
        "    else:\n",
        "        while True:\n",
        "            for i in range(n):\n",
        "                s1 = 0\n",
        "                tempx = x.copy()        #Record the answer of the last iteration\n",
        "                for j in range(n):\n",
        "                    if i != j:\n",
        "                        s1 += x[j] * a[i][j]\n",
        "                x[i] = (b[i] - s1) / a[i][i]\n",
        "                times += 1                                    #Number of iterations plus one\n",
        "            gap = max(abs(x - tempx))              #Difference from the last answer modulus\n",
        "\n",
        "            if gap < g:                          #Accuracy meets the requirements, end\n",
        "                break\n",
        "\n",
        "            elif times > 10000:          #If the iteration exceeds10000Times, over\n",
        "                break\n",
        "                print(\"No convergence after 10,000 iterations\")\n",
        "\n",
        "    print(times)\n",
        "    print(x)\n",
        "A =np.array( [\n",
        " [1.0, -2.0, 3.0, -4.0],\n",
        " [3.0, 3.0, -5.0, -1.0],\n",
        " [3.0, 0.0, 3.0, -10.0],\n",
        " [-2.0, 1.0, 2.0, -3.0]])\n",
        "b = np.array([2, -3, 8, 5])\n",
        "X\n",
        "gz_solve(A,b,X)\n",
        "X_test = np.dot(A, X)\n",
        "#тестируем\n",
        "print(X_test)\n",
        "print(b)\n",
        "  "
      ],
      "execution_count": null,
      "outputs": [
        {
          "output_type": "stream",
          "text": [
            "4\n",
            "[2. 4. 4. 1.]\n",
            "[ 2. -3.  8.  5.]\n",
            "[ 2 -3  8  5]\n"
          ],
          "name": "stdout"
        }
      ]
    }
  ]
}